{
  "metadata": {
    "language_info": {
      "codemirror_mode": {
        "name": "python",
        "version": 3
      },
      "file_extension": ".py",
      "mimetype": "text/x-python",
      "name": "python",
      "nbconvert_exporter": "python",
      "pygments_lexer": "ipython3",
      "version": "3.8"
    },
    "kernelspec": {
      "name": "python",
      "display_name": "Python (Pyodide)",
      "language": "python"
    }
  },
  "nbformat_minor": 4,
  "nbformat": 4,
  "cells": [
    {
      "cell_type": "markdown",
      "source": "## Peer Graded Notebook",
      "metadata": {}
    },
    {
      "cell_type": "markdown",
      "source": "## Introduction:\n\nThis notebook contains all the answers to my peer graded Assignment\n",
      "metadata": {}
    },
    {
      "cell_type": "markdown",
      "source": "## List of Data Science Languages\n\n- Python\n- R\n- Julia\n- Scala\n",
      "metadata": {}
    },
    {
      "cell_type": "markdown",
      "source": "## List of Data Science Libaries\n\n- Scikit-Learn\n- Tensorflow\n- Keras\n- Pandas\n- Numpy\n- Scipy\n- Matplotlib",
      "metadata": {}
    },
    {
      "cell_type": "markdown",
      "source": "## Datascience Tools\n\n| Tool Name|\n| :-:| \n| Apache Spark | \n| IBM SPSS | \n| Jupyter Notebook |\n| Watson Studio |",
      "metadata": {}
    },
    {
      "cell_type": "markdown",
      "source": "## Arithmetic Expression Examples\n\n\n&emsp;&emsp;(a)&emsp;For $i = 1,2,...,N$ compute<br>\n    $$r_{im} = - \\displaystyle \\Bigg[\\frac{\\partial L(y_{i}, f(x_{i}))}{\\partial f(x_{i})}\\Bigg]_{f=f_{m−1}}$$\n&emsp;&emsp;(b)&emsp;Fit a regression tree to the targets $r_{im}$ giving terminal regions<br>\n&emsp;&emsp;&emsp;&emsp;$R_{jm}, j = 1, 2, . . . , J_{m}.$<br><br>\n&emsp;&emsp;(c)&emsp;For $j = 1, 2, . . . , J_{m}$ compute<br>\n$$\\gamma_{jm} = \\underset{\\gamma}{\\textrm{arg min}} \\sum \\limits _{x_{i} \\in R_{jm}} L(y_{i}, f_{m−1}(x_{i}) + \\gamma)$$\n<br>\n&emsp;&emsp;(d)&emsp;Update $f_{m}(x) = f_{m−1}(x) + \\sum _{j=1} ^{J_{m}} \\gamma_{jm} I(x \\in R_{jm})$<br><br>\n",
      "metadata": {}
    },
    {
      "cell_type": "code",
      "source": "# Python Program to add and multiply\n\ndef multiply(a,b):\n    mul = a*b\n    return mul\n\ndef add(a,b):\n    add = a + b\n    return add\n\nprint(\"Addition of 2 and 3 is : \",add(2,3))\nprint(\"Multiplication of 2 and 3 is : \",multiply(2,3))",
      "metadata": {
        "trusted": true
      },
      "execution_count": 5,
      "outputs": [
        {
          "name": "stdout",
          "text": "Multiplication of 2 and 3 is :  6\nAddition of 2 and 3 is :  5\n",
          "output_type": "stream"
        }
      ]
    },
    {
      "cell_type": "code",
      "source": "# Python Program to Convert Minute to Hour\n\nminutes = 30 \nprint(\"Hour : Minute :--> \", minutes/60, \" : \", minutes % 60)",
      "metadata": {
        "trusted": true
      },
      "execution_count": 24,
      "outputs": [
        {
          "name": "stdout",
          "text": "Hour : Minute :-->  0.5  :  30\n",
          "output_type": "stream"
        }
      ]
    },
    {
      "cell_type": "markdown",
      "source": "## Objectives:\n\n- To be able to learn and apply various data science libraries available\n- Become familiar with different coding environments for Data Science\n- Learning how to work with jupyte notebook and Rstudio.",
      "metadata": {}
    },
    {
      "cell_type": "markdown",
      "source": "## Authors Name: \n\nAman Kanwar\n\n",
      "metadata": {}
    }
  ]
}